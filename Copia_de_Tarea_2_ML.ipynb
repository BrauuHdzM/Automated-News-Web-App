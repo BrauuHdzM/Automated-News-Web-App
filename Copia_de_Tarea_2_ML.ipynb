{
  "nbformat": 4,
  "nbformat_minor": 0,
  "metadata": {
    "colab": {
      "provenance": [],
      "include_colab_link": true
    },
    "kernelspec": {
      "name": "python3",
      "display_name": "Python 3"
    },
    "language_info": {
      "name": "python"
    }
  },
  "cells": [
    {
      "cell_type": "markdown",
      "metadata": {
        "id": "view-in-github",
        "colab_type": "text"
      },
      "source": [
        "<a href=\"https://colab.research.google.com/github/BrauuHdzM/Automated-News-Web-App/blob/master/Copia_de_Tarea_2_ML.ipynb\" target=\"_parent\"><img src=\"https://colab.research.google.com/assets/colab-badge.svg\" alt=\"Open In Colab\"/></a>"
      ]
    },
    {
      "cell_type": "markdown",
      "source": [
        "Bienvenido a la semana 2, del curso de Python desde cero de Zero2Hero, en esta semana aprenderemos a usar ciclos, funciones asi como las principales estructuras de programación que existen en Python, además aprenderas los fundamentos de programación orientada a objetos, para que tus programas lleguen a otro nivel.\n",
        "\n",
        "\n",
        "En la primera sección de este notebook, daremos un repaso de la teoria que hemos visto durante las clases, y al final tendras algunos problemas para que puedas repasar lo aprendido, te recomiendo que los hagas pues de esta manera realmente aprenderas a programar y podras seguir el temario del curso sin la menor dificultad.\n",
        "\n",
        "Recuerda que siempre puedes mandarme mensaje por whats, si es que te surge alguna duda al resolver este tipo de problemas.\n",
        "\n"
      ],
      "metadata": {
        "id": "YigLdSFM_Rqc"
      }
    },
    {
      "cell_type": "markdown",
      "source": [
        "###Ciclos\n"
      ],
      "metadata": {
        "id": "Oty8uMKRYvF_"
      }
    },
    {
      "cell_type": "markdown",
      "source": [
        "####Estructura for"
      ],
      "metadata": {
        "id": "PsTds34yfeA7"
      }
    },
    {
      "cell_type": "markdown",
      "source": [
        "Los bucles for son una de las principales estructuras de control en Python que te permiten repetir un bloque de código varias veces.\n",
        "\n",
        "La sintaxis básica de un bucle for es la siguiente"
      ],
      "metadata": {
        "id": "XLOvIh11Y7z2"
      }
    },
    {
      "cell_type": "code",
      "source": [
        "frutas = ['manzana', 'banana', 'cereza']\n",
        "\n",
        "\n",
        "for fruta in frutas:  #ciclo for\n",
        "    print(fruta)\n"
      ],
      "metadata": {
        "colab": {
          "base_uri": "https://localhost:8080/"
        },
        "id": "3mAttwclYw4E",
        "outputId": "47aad170-9f4f-48da-d37b-5ace8be79c93"
      },
      "execution_count": null,
      "outputs": [
        {
          "output_type": "stream",
          "name": "stdout",
          "text": [
            "manzana\n",
            "banana\n",
            "cereza\n"
          ]
        }
      ]
    },
    {
      "cell_type": "markdown",
      "source": [
        "Observa que aqui el ciclo for se ejecuta 3 veces una por cada fruta que hay en la lista de frutas, obsevarmos que la variable fruta en la primer ejecución es igual a manzana, en la segunda ejecución es igual a banana y en la tercera ejecución es igual a cereza.\n"
      ],
      "metadata": {
        "id": "HnpoNzhgZHCF"
      }
    },
    {
      "cell_type": "markdown",
      "source": [
        " El bucle se detiene después de la tercera iteración porque ya no quedan más elementos en la lista.\n",
        "\n",
        "Otro ejemplo útil es el uso de la función range(), que genera una secuencia de números:"
      ],
      "metadata": {
        "id": "QPrD12mIZgHl"
      }
    },
    {
      "cell_type": "code",
      "source": [
        "for i in range(5):\n",
        "    print(i)\n"
      ],
      "metadata": {
        "colab": {
          "base_uri": "https://localhost:8080/"
        },
        "id": "b5S7iqLRZX8h",
        "outputId": "5cca5173-2e17-4071-af94-725a550e68a6"
      },
      "execution_count": null,
      "outputs": [
        {
          "output_type": "stream",
          "name": "stdout",
          "text": [
            "0\n",
            "1\n",
            "2\n",
            "3\n",
            "4\n"
          ]
        }
      ]
    },
    {
      "cell_type": "markdown",
      "source": [
        "Este código imprimirá los números del 0 al 4. La función range(5) genera una secuencia de números del 0 al 4, y en cada iteración del bucle, i toma el siguiente número de la secuencia.\n",
        "\n",
        "También es posible iterar sobre cadenas de texto, donde la variable de bucle tomará el valor de cada carácter de la cadena:"
      ],
      "metadata": {
        "id": "Wy1VkMUiZnNf"
      }
    },
    {
      "cell_type": "code",
      "source": [
        "palabra = 'hola'\n",
        "for letra in palabra:\n",
        "    print(letra)\n"
      ],
      "metadata": {
        "id": "lDnlZp18Znzy"
      },
      "execution_count": null,
      "outputs": []
    },
    {
      "cell_type": "markdown",
      "source": [
        "Una característica importante de los bucles for es que puedes usar la declaración break para detener el bucle antes de que haya pasado por todos los elementos:"
      ],
      "metadata": {
        "id": "vQ_bpMHMZqwQ"
      }
    },
    {
      "cell_type": "code",
      "source": [
        "numeros = [1, 2, 3, 4, 5]\n",
        "for numero in numeros:\n",
        "    if numero == 4:\n",
        "        break\n",
        "    print(numero)\n"
      ],
      "metadata": {
        "colab": {
          "base_uri": "https://localhost:8080/"
        },
        "id": "hr3dbiaUZqNP",
        "outputId": "8a35a355-0be9-4878-b4e8-ea7c9a97fc3e"
      },
      "execution_count": null,
      "outputs": [
        {
          "output_type": "stream",
          "name": "stdout",
          "text": [
            "1\n",
            "2\n",
            "3\n"
          ]
        }
      ]
    },
    {
      "cell_type": "markdown",
      "source": [
        "#### Estructura while"
      ],
      "metadata": {
        "id": "tFX6UOb9aEWQ"
      }
    },
    {
      "cell_type": "markdown",
      "source": [
        "En Python, la declaración while se utiliza para ejecutar un bloque de código varias veces, siempre que una determinada condición sea verdadera.\n",
        "\n",
        "La sintaxis de un bucle while es la siguiente:\n",
        "\n",
        "while condición:\n",
        "    # bloque de código\n"
      ],
      "metadata": {
        "id": "zVjRiXuda9Yj"
      }
    },
    {
      "cell_type": "markdown",
      "source": [
        "Donde condición es una expresión booleana que se evalúa en cada iteración del bucle. Si la condición es verdadera, el bloque de código dentro del bucle se ejecuta. Si la condición se vuelve falsa, el bucle termina y la ejecución continúa con la siguiente línea de código después del bucle."
      ],
      "metadata": {
        "id": "vs2FbyTibEks"
      }
    },
    {
      "cell_type": "code",
      "source": [
        "contador = 0\n",
        "while contador < 5:\n",
        "    print(contador)\n",
        "    contador += 1  # Incrementa el contador en 1\n"
      ],
      "metadata": {
        "colab": {
          "base_uri": "https://localhost:8080/"
        },
        "id": "MggAWBvoaGmd",
        "outputId": "951534bb-3805-4f66-809b-2e3dde9d8999"
      },
      "execution_count": null,
      "outputs": [
        {
          "output_type": "stream",
          "name": "stdout",
          "text": [
            "0\n",
            "1\n",
            "2\n",
            "3\n",
            "4\n"
          ]
        }
      ]
    },
    {
      "cell_type": "markdown",
      "source": [
        "En este código, contador < 5 es la condición del bucle **while**. En la primera iteración, contador es 0, por lo que la condición es verdadera y el bloque de código dentro del bucle se ejecuta, imprimiendo 0. Luego, contador se incrementa en 1, por lo que en la segunda iteración contador es 1, y así sucesivamente. Cuando contador llega a 5, contador < 5 se vuelve falso, por lo que el bucle termina.\n",
        "\n",
        "Los bucles while pueden ser controlados con las declaraciones **break** y **continue**, de manera similar a los bucles for. La declaración break se utiliza para salir del bucle prematuramente:"
      ],
      "metadata": {
        "id": "J4x9726VbJ-c"
      }
    },
    {
      "cell_type": "code",
      "source": [
        "contador = 0\n",
        "while contador < 5:\n",
        "    if contador == 3:\n",
        "        break\n",
        "    print(contador)\n",
        "    contador += 1\n"
      ],
      "metadata": {
        "colab": {
          "base_uri": "https://localhost:8080/"
        },
        "id": "WwaEGzZBbOLz",
        "outputId": "563bfde6-d106-4176-8474-70ad5f31b38f"
      },
      "execution_count": null,
      "outputs": [
        {
          "output_type": "stream",
          "name": "stdout",
          "text": [
            "0\n",
            "1\n",
            "2\n"
          ]
        }
      ]
    },
    {
      "cell_type": "markdown",
      "source": [
        "Este código solo imprimirá los números del 0 al 2, porque cuando contador llega a 3, se ejecuta la declaración break y el bucle termina.\n",
        "\n",
        "La declaración continue se utiliza para saltarse el resto del bloque de código en la iteración actual y continuar con la siguiente iteración:"
      ],
      "metadata": {
        "id": "VPHafaRkbcBS"
      }
    },
    {
      "cell_type": "code",
      "source": [
        "contador = 0\n",
        "while contador < 5:\n",
        "    contador += 1\n",
        "    if contador == 3:\n",
        "        continue\n",
        "    print(contador)\n"
      ],
      "metadata": {
        "colab": {
          "base_uri": "https://localhost:8080/"
        },
        "id": "W0NjdKqybcyD",
        "outputId": "2337ff34-77cd-42a7-9a35-5deb1ee53d62"
      },
      "execution_count": null,
      "outputs": [
        {
          "output_type": "stream",
          "name": "stdout",
          "text": [
            "1\n",
            "2\n",
            "4\n",
            "5\n"
          ]
        }
      ]
    },
    {
      "cell_type": "markdown",
      "source": [
        "Este código imprimirá los números 1, 2, 4, 5. Cuando contador es 3, se ejecuta la declaración continue, por lo que el comando print(contador) se omite y el bucle continúa con la siguiente iteración."
      ],
      "metadata": {
        "id": "vL_aJUHAbqqC"
      }
    },
    {
      "cell_type": "markdown",
      "source": [
        "###Listas:\n",
        "\n",
        "Las listas son una de las estructuras de datos más básicas en Python. Son un tipo de contenedor que se utiliza para almacenar varios objetos de datos, que pueden ser de diferentes tipos (enteros, cadenas, booleanos, objetos, etc.). Se definen con corchetes **[ ]** y los elementos de la lista se separan por comas."
      ],
      "metadata": {
        "id": "Y3nOiOJ1_9lY"
      }
    },
    {
      "cell_type": "code",
      "execution_count": null,
      "metadata": {
        "colab": {
          "base_uri": "https://localhost:8080/"
        },
        "id": "hz-SX1Kb_OXO",
        "outputId": "7d91eafd-a64d-491f-99e2-2e8d2ddedb3f"
      },
      "outputs": [
        {
          "output_type": "stream",
          "name": "stdout",
          "text": [
            "[1, 2, 3, 'a', 'b', 'c', True, False]\n"
          ]
        }
      ],
      "source": [
        "mi_lista = [1, 2, 3, 'a', 'b', 'c', True, False]\n",
        "\n",
        "print(mi_lista)"
      ]
    },
    {
      "cell_type": "markdown",
      "source": [
        "Algunas operaciones que se pueden realizar con las listas son:\n",
        "\n",
        "**Añadir elementos: mi_lista.append('Nuevo elemento')**\n",
        "\n",
        "**Eliminar elementos: mi_lista.remove('a')**\n",
        "\n",
        "**Acceder a un elemento por su índice: mi_lista[0] (esto devolverá el primer elemento, porque los índices en Python empiezan en 0)**\n",
        "\n",
        "**Iterar sobre los elementos de la lista:**"
      ],
      "metadata": {
        "id": "PXZb0xWhBXTq"
      }
    },
    {
      "cell_type": "code",
      "source": [
        "#Añadir elementos al final de la lista\n",
        "\n",
        "mi_lista.append('Nuevo elemento')\n",
        "\n",
        "print(mi_lista)"
      ],
      "metadata": {
        "colab": {
          "base_uri": "https://localhost:8080/"
        },
        "id": "9U_WPX3BBZ9Y",
        "outputId": "1b519ab8-87f8-4098-df78-edcbfa9bb9af"
      },
      "execution_count": null,
      "outputs": [
        {
          "output_type": "stream",
          "name": "stdout",
          "text": [
            "[1, 2, 3, 'a', 'b', 'c', True, False, 'Nuevo elemento']\n"
          ]
        }
      ]
    },
    {
      "cell_type": "code",
      "source": [
        "#insertar elementos en una posición especifica\n",
        "\n",
        "mi_lista.insert(1, 'Nuevo elemento en la posición 2')  # Los índices empiezan desde 0.\n",
        "\n",
        "print(mi_lista)"
      ],
      "metadata": {
        "colab": {
          "base_uri": "https://localhost:8080/"
        },
        "id": "n5uYrjHkCLM-",
        "outputId": "5bc26b5e-7f7c-4169-9d85-1ae0aff053c6"
      },
      "execution_count": null,
      "outputs": [
        {
          "output_type": "stream",
          "name": "stdout",
          "text": [
            "[1, 'Nuevo elemento en la posición 2', 2, 3, 'a', 'b', 'c', True, False, 'Nuevo elemento']\n"
          ]
        }
      ]
    },
    {
      "cell_type": "code",
      "source": [
        "#eliminar elementos por su valor\n",
        "\n",
        "mi_lista.remove('a')  # Elimina el primer 'a' que encuentre.\n",
        "\n",
        "print(mi_lista)  #nota que el elemento a, ya no aparece en la lista"
      ],
      "metadata": {
        "colab": {
          "base_uri": "https://localhost:8080/"
        },
        "id": "mjoc3cBgCU5C",
        "outputId": "5f03414b-d765-42c9-b5f8-152fa36afa11"
      },
      "execution_count": null,
      "outputs": [
        {
          "output_type": "stream",
          "name": "stdout",
          "text": [
            "[1, 'Nuevo elemento en la posición 2', 2, 3, 'b', 'c', True, False, 'Nuevo elemento']\n"
          ]
        }
      ]
    },
    {
      "cell_type": "code",
      "source": [
        "#eliminar elementos por su posición\n",
        "\n",
        "\n",
        "del mi_lista[0]  # Elimina el primer elemento de la lista.\n",
        "\n",
        "print(mi_lista)"
      ],
      "metadata": {
        "colab": {
          "base_uri": "https://localhost:8080/"
        },
        "id": "bLMI1y7cCkGG",
        "outputId": "8a3d0606-ae17-41f7-ffd9-86e60ce65662"
      },
      "execution_count": null,
      "outputs": [
        {
          "output_type": "stream",
          "name": "stdout",
          "text": [
            "['Nuevo elemento en la posición 2', 2, 3, 'b', 'c', True, False, 'Nuevo elemento']\n"
          ]
        }
      ]
    },
    {
      "cell_type": "markdown",
      "source": [
        "En Python, los índices negativos se utilizan para contar elementos a partir del final de la lista."
      ],
      "metadata": {
        "id": "6ctsMMLHCsra"
      }
    },
    {
      "cell_type": "code",
      "source": [
        "#acceder al primer y ultimo elemento de la lista\n",
        "\n",
        "primer_elemento = mi_lista[0]  # Obtiene el primer elemento.\n",
        "ultimo_elemento = mi_lista[-1]  # Obtiene el último elemento.\n",
        "\n",
        "\n",
        "print(primer_elemento)\n",
        "print(ultimo_elemento)"
      ],
      "metadata": {
        "colab": {
          "base_uri": "https://localhost:8080/"
        },
        "id": "2rAnlvHxC3sF",
        "outputId": "8b71a9ed-709c-4986-bb58-87ed4490ec91"
      },
      "execution_count": null,
      "outputs": [
        {
          "output_type": "stream",
          "name": "stdout",
          "text": [
            "Nuevo elemento en la posición 2\n",
            "Nuevo elemento\n"
          ]
        }
      ]
    },
    {
      "cell_type": "code",
      "source": [
        "# Cambiar el valor de un elemento por su índice\n",
        "\n",
        "mi_lista[0] = 'Nuevo primer elemento'\n",
        "\n",
        "print(mi_lista)"
      ],
      "metadata": {
        "colab": {
          "base_uri": "https://localhost:8080/"
        },
        "id": "cPLFezP8DGxu",
        "outputId": "b79bfd73-4cb8-4aeb-f903-06b60f0a7713"
      },
      "execution_count": null,
      "outputs": [
        {
          "output_type": "stream",
          "name": "stdout",
          "text": [
            "['Nuevo primer elemento', 2, 3, 'b', 'c', True, False, 'Nuevo elemento']\n"
          ]
        }
      ]
    },
    {
      "cell_type": "code",
      "source": [
        "#Obtener el índice de un elemento\n",
        "\n",
        "indice = mi_lista.index('b')  # Devuelve el índice de la primera ocurrencia de 'b'.\n",
        "\n",
        "print(indice)"
      ],
      "metadata": {
        "colab": {
          "base_uri": "https://localhost:8080/"
        },
        "id": "T9IlOZ_9DYAh",
        "outputId": "3f6313a0-ca8e-4ce6-88ee-e6ca8e26c091"
      },
      "execution_count": null,
      "outputs": [
        {
          "output_type": "stream",
          "name": "stdout",
          "text": [
            "3\n"
          ]
        }
      ]
    },
    {
      "cell_type": "code",
      "source": [
        "#ordenar los elementos de una lista\n",
        "\n",
        "numeros = [5, 2, 3, 1, 4]\n",
        "numeros.sort()\n",
        "\n",
        "print(numeros)"
      ],
      "metadata": {
        "colab": {
          "base_uri": "https://localhost:8080/"
        },
        "id": "vBL97Hi5Dgua",
        "outputId": "cfe448db-fd8f-4e16-f49f-6b3f22581169"
      },
      "execution_count": null,
      "outputs": [
        {
          "output_type": "stream",
          "name": "stdout",
          "text": [
            "[1, 2, 3, 4, 5]\n"
          ]
        }
      ]
    },
    {
      "cell_type": "code",
      "source": [
        "##revertir el orden de los elementos de una lista\n",
        "\n",
        "numeros.reverse()\n",
        "\n",
        "print(numeros)"
      ],
      "metadata": {
        "colab": {
          "base_uri": "https://localhost:8080/"
        },
        "id": "hAXsLX5KDmkY",
        "outputId": "acba2e00-dd35-4599-9196-1cee5fa07d86"
      },
      "execution_count": null,
      "outputs": [
        {
          "output_type": "stream",
          "name": "stdout",
          "text": [
            "[5, 4, 3, 2, 1]\n"
          ]
        }
      ]
    },
    {
      "cell_type": "code",
      "source": [
        "#iterar sobre los elementos de una lista\n",
        "\n",
        "for elemento in mi_lista:\n",
        "    print(elemento)\n"
      ],
      "metadata": {
        "colab": {
          "base_uri": "https://localhost:8080/"
        },
        "id": "lLxFZDWUD0VC",
        "outputId": "7a26ee48-a179-4c95-b867-9fe3a8615f10"
      },
      "execution_count": null,
      "outputs": [
        {
          "output_type": "stream",
          "name": "stdout",
          "text": [
            "Nuevo primer elemento\n",
            "2\n",
            "3\n",
            "b\n",
            "c\n",
            "True\n",
            "False\n",
            "Nuevo elemento\n"
          ]
        }
      ]
    },
    {
      "cell_type": "code",
      "source": [
        "##Comprobar si un elemento esta en la lista\n",
        "\n",
        "if 'b' in mi_lista:\n",
        "    print(\"'b' está en la lista\")\n"
      ],
      "metadata": {
        "colab": {
          "base_uri": "https://localhost:8080/"
        },
        "id": "9J9HzLSdD5C_",
        "outputId": "2c1d6930-f626-49a5-cff7-2746f381c0c7"
      },
      "execution_count": null,
      "outputs": [
        {
          "output_type": "stream",
          "name": "stdout",
          "text": [
            "'b' está en la lista\n"
          ]
        }
      ]
    },
    {
      "cell_type": "code",
      "source": [
        "##Obtener el número de elementos de una lista\n",
        "\n",
        "num_elementos = len(mi_lista)\n",
        "\n",
        "\n",
        "print(mi_lista)\n",
        "print(\"El número de elementos es\", num_elementos)\n"
      ],
      "metadata": {
        "colab": {
          "base_uri": "https://localhost:8080/"
        },
        "id": "pQuUFSV1EAqL",
        "outputId": "b113fa72-4a17-4cd2-a4aa-b8013dbcb90f"
      },
      "execution_count": null,
      "outputs": [
        {
          "output_type": "stream",
          "name": "stdout",
          "text": [
            "['Nuevo primer elemento', 2, 3, 'b', 'c', True, False, 'Nuevo elemento']\n",
            "El número de elementos es 8\n"
          ]
        }
      ]
    },
    {
      "cell_type": "code",
      "source": [
        "#Tomar una sublista de tu lista completa\n",
        "\n",
        "print(mi_lista[1:4]) #imprime los elementos en la posición 1,2,3 nota el ultimo no lo imprime"
      ],
      "metadata": {
        "colab": {
          "base_uri": "https://localhost:8080/"
        },
        "id": "oit0JsBDERxj",
        "outputId": "3be231cb-baf4-411d-b56d-8fdeffef5d6d"
      },
      "execution_count": null,
      "outputs": [
        {
          "output_type": "stream",
          "name": "stdout",
          "text": [
            "[2, 3, 'b']\n"
          ]
        }
      ]
    },
    {
      "cell_type": "code",
      "source": [
        "print(mi_lista[:4]) #imprime todos los elementos hasta la posición 4, sin imprimir la 4"
      ],
      "metadata": {
        "colab": {
          "base_uri": "https://localhost:8080/"
        },
        "id": "SYXb4aB6Edeq",
        "outputId": "b4ce4a2b-f9da-488a-b0b7-dab28776e93c"
      },
      "execution_count": null,
      "outputs": [
        {
          "output_type": "stream",
          "name": "stdout",
          "text": [
            "['Nuevo primer elemento', 2, 3, 'b']\n"
          ]
        }
      ]
    },
    {
      "cell_type": "code",
      "source": [
        "print(mi_lista[3:]) #imprime todos los elementos desde la posición 3 (incluyendo la posición 3)"
      ],
      "metadata": {
        "colab": {
          "base_uri": "https://localhost:8080/"
        },
        "id": "qvIYKU8oEnSd",
        "outputId": "3be34755-d270-4763-efde-670f3bf008f7"
      },
      "execution_count": null,
      "outputs": [
        {
          "output_type": "stream",
          "name": "stdout",
          "text": [
            "['b', 'c', True, False, 'Nuevo elemento']\n"
          ]
        }
      ]
    },
    {
      "cell_type": "markdown",
      "source": [
        "###Diccionarios\n",
        "\n",
        " Los diccionarios son una estructura de datos muy útil en Python. Un diccionario almacena pares de clave-valor, donde cada clave es única. Las claves y los valores pueden ser de cualquier tipo.\n",
        "\n",
        "Un diccionario en Python se crea utilizando llaves {} con los pares clave-valor separados por dos puntos :. Aquí tienes un ejemplo de cómo crear un diccionario"
      ],
      "metadata": {
        "id": "slF3THSIfnTl"
      }
    },
    {
      "cell_type": "code",
      "source": [
        "mi_diccionario = {\"nombre\": \"Mario\", \"edad\": 25, \"ocupacion\": \"plomero\"}\n",
        "print(mi_diccionario)\n"
      ],
      "metadata": {
        "colab": {
          "base_uri": "https://localhost:8080/"
        },
        "id": "eIzlUX-yf1mA",
        "outputId": "5f2b2459-b50c-44d4-ec41-39c2cf274a69"
      },
      "execution_count": null,
      "outputs": [
        {
          "output_type": "stream",
          "name": "stdout",
          "text": [
            "{'nombre': 'Mario', 'edad': 25, 'ocupacion': 'plomero'}\n"
          ]
        }
      ]
    },
    {
      "cell_type": "markdown",
      "source": [
        "En este caso, \"nombre\", \"edad\" y \"ocupacion\" son las claves, y \"Mario\", 25 y \"plomero\" son los valores correspondientes.\n",
        "\n",
        "Para acceder a un valor en un diccionario, se utiliza la clave correspondiente de la siguiente manera:"
      ],
      "metadata": {
        "id": "hSf9SNkmf6Ws"
      }
    },
    {
      "cell_type": "code",
      "source": [
        "print(mi_diccionario[\"nombre\"])  # Imprime \"Mario\"\n"
      ],
      "metadata": {
        "colab": {
          "base_uri": "https://localhost:8080/"
        },
        "id": "-xncNmR8f8ey",
        "outputId": "51fd6a46-3aeb-47a2-ea79-8171f82a43cc"
      },
      "execution_count": null,
      "outputs": [
        {
          "output_type": "stream",
          "name": "stdout",
          "text": [
            "Mario\n"
          ]
        }
      ]
    },
    {
      "cell_type": "markdown",
      "source": [
        "Si intentas acceder a un diccionario con una clave que no existe, Python te dará un error. Para evitar esto, puedes utilizar el método get(), que devolverá None si la clave no se encuentra en el diccionario:"
      ],
      "metadata": {
        "id": "0oypdLaagCzE"
      }
    },
    {
      "cell_type": "code",
      "source": [
        "print(mi_diccionario.get(\"altura\"))  # Imprime \"None\"\n"
      ],
      "metadata": {
        "colab": {
          "base_uri": "https://localhost:8080/"
        },
        "id": "8ZsUISPJgCZV",
        "outputId": "298a38f7-3649-4508-847c-11d128d6a921"
      },
      "execution_count": null,
      "outputs": [
        {
          "output_type": "stream",
          "name": "stdout",
          "text": [
            "None\n"
          ]
        }
      ]
    },
    {
      "cell_type": "markdown",
      "source": [
        "Puedes modificar el valor de una clave existente o añadir un nuevo par clave-valor a un diccionario de la siguiente manera:"
      ],
      "metadata": {
        "id": "PrCKRgeAgJlx"
      }
    },
    {
      "cell_type": "code",
      "source": [
        "mi_diccionario[\"altura\"] = 175  # Añade un nuevo par clave-valor\n",
        "mi_diccionario[\"edad\"] = 26  # Modifica el valor de la clave \"edad\"\n",
        "print(mi_diccionario)  # Imprime {'nombre': 'Mario', 'edad': 26, 'ocupacion': 'plomero', 'altura': 175}\n"
      ],
      "metadata": {
        "colab": {
          "base_uri": "https://localhost:8080/"
        },
        "id": "MUPzzyKugISc",
        "outputId": "d181f80c-e8c7-4b81-f6b5-01f0b5715277"
      },
      "execution_count": null,
      "outputs": [
        {
          "output_type": "stream",
          "name": "stdout",
          "text": [
            "{'nombre': 'Mario', 'edad': 26, 'ocupacion': 'plomero', 'altura': 175}\n"
          ]
        }
      ]
    },
    {
      "cell_type": "markdown",
      "source": [
        "Para eliminar un par clave-valor de un diccionario, puedes usar la declaración **del**:"
      ],
      "metadata": {
        "id": "tZIctvD_gOD9"
      }
    },
    {
      "cell_type": "code",
      "source": [
        "del mi_diccionario[\"altura\"]\n",
        "print(mi_diccionario)  # Imprime {'nombre': 'Mario', 'edad': 26, 'ocupacion': 'plomero'}\n"
      ],
      "metadata": {
        "colab": {
          "base_uri": "https://localhost:8080/"
        },
        "id": "Ifm_kqM3gPnn",
        "outputId": "1a17b40b-dfad-4182-cf24-d87b2a075adf"
      },
      "execution_count": null,
      "outputs": [
        {
          "output_type": "stream",
          "name": "stdout",
          "text": [
            "{'nombre': 'Mario', 'edad': 26, 'ocupacion': 'plomero'}\n"
          ]
        }
      ]
    },
    {
      "cell_type": "markdown",
      "source": [
        "También puedes obtener todas las claves, todos los valores o todos los pares clave-valor de un diccionario usando los métodos keys(), values() y items(), respectivamente"
      ],
      "metadata": {
        "id": "yaZXKa99gWWG"
      }
    },
    {
      "cell_type": "code",
      "source": [
        "print(mi_diccionario.keys())  # Imprime ['nombre', 'edad', 'ocupacion']\n",
        "print(mi_diccionario.values())  # Imprime ['Mario', 26, 'plomero']\n",
        "print(mi_diccionario.items())  # Imprime [('nombre', 'Mario'), ('edad', 26), ('ocupacion', 'plomero')]\n"
      ],
      "metadata": {
        "colab": {
          "base_uri": "https://localhost:8080/"
        },
        "id": "9ZxFaUBMgXJq",
        "outputId": "1b066d54-d7ea-4848-f89d-cce62099d73d"
      },
      "execution_count": null,
      "outputs": [
        {
          "output_type": "stream",
          "name": "stdout",
          "text": [
            "dict_keys(['nombre', 'edad', 'ocupacion'])\n",
            "dict_values(['Mario', 26, 'plomero'])\n",
            "dict_items([('nombre', 'Mario'), ('edad', 26), ('ocupacion', 'plomero')])\n"
          ]
        }
      ]
    },
    {
      "cell_type": "markdown",
      "source": [
        "Ahora, vamos con un ejemplo divertido. Supongamos que estás creando un juego de rol y quieres almacenar información sobre los personajes. Podrías usar un diccionario para hacerlo. Por ejemplo"
      ],
      "metadata": {
        "id": "t5zYyZ2PgbBv"
      }
    },
    {
      "cell_type": "code",
      "source": [
        "personajes = {\n",
        "    \"Mario\": {\"ocupacion\": \"plomero\", \"poder\": \"saltar alto\", \"vida\": 100},\n",
        "    \"Luigi\": {\"ocupacion\": \"plomero\", \"poder\": \"saltar aún más alto\", \"vida\": 100},\n",
        "    \"Bowser\": {\"ocupacion\": \"rey\", \"poder\": \"lanzar fuego\", \"vida\": 500},\n",
        "}\n",
        "\n",
        "# Imprimir información sobre Mario\n",
        "print(personajes[\"Mario\"])\n",
        "\n",
        "# Reducir la vida de Bowser en 50\n",
        "personajes[\"Bowser\"][\"vida\"] -= 50\n",
        "print(personajes[\"Bowser\"])\n"
      ],
      "metadata": {
        "colab": {
          "base_uri": "https://localhost:8080/"
        },
        "id": "ks9-szCxgh_5",
        "outputId": "46a4e09c-dd56-4514-adb0-2bf7eb7bf113"
      },
      "execution_count": null,
      "outputs": [
        {
          "output_type": "stream",
          "name": "stdout",
          "text": [
            "{'ocupacion': 'plomero', 'poder': 'saltar alto', 'vida': 100}\n",
            "{'ocupacion': 'rey', 'poder': 'lanzar fuego', 'vida': 450}\n"
          ]
        }
      ]
    },
    {
      "cell_type": "markdown",
      "source": [
        "###Funciones"
      ],
      "metadata": {
        "id": "KtFPlvPDgsOw"
      }
    },
    {
      "cell_type": "markdown",
      "source": [
        "Las funciones son un pilar fundamental de la programación en Python y en la mayoría de los lenguajes de programación.\n",
        "\n",
        "Una función es un bloque de código reutilizable que realiza una acción específica. Puedes pensar en una función como una máquina: le das ciertas entradas, hace algo con ellas y luego produce una salida.\n",
        "\n",
        "La sintaxis para definir una función en Python es la siguiente:"
      ],
      "metadata": {
        "id": "EGP01t2ig9H1"
      }
    },
    {
      "cell_type": "code",
      "source": [
        "def nombre_de_la_funcion(argumentos):\n",
        "    # Código de la función\n",
        "    return valor_de_retorno"
      ],
      "metadata": {
        "id": "E4ULirLxgtoY"
      },
      "execution_count": null,
      "outputs": []
    },
    {
      "cell_type": "markdown",
      "source": [
        "Aquí, def es una palabra clave que indica que estás definiendo una función. **nombre_de_la_funcion** es el nombre que eliges para la función, y **argumentos** es una lista de variables que la función tomará como entrada. El código de la función es el bloque de código que se ejecutará cuando se llame a la función. **return** es otra palabra clave que indica el valor que la función dará como resultado.\n",
        "\n",
        "Veamos un ejemplo sencillo:"
      ],
      "metadata": {
        "id": "x6Ddj8gChDn1"
      }
    },
    {
      "cell_type": "code",
      "source": [
        "def sumar_dos_numeros(a, b):\n",
        "    suma = a + b\n",
        "    return suma\n",
        "\n",
        "resultado = sumar_dos_numeros(5, 3)\n",
        "print(resultado)  # Imprime 8\n"
      ],
      "metadata": {
        "colab": {
          "base_uri": "https://localhost:8080/"
        },
        "id": "ue3Li6Q8hNat",
        "outputId": "033edfe3-fc69-4fd8-945d-d5d1581368cc"
      },
      "execution_count": null,
      "outputs": [
        {
          "output_type": "stream",
          "name": "stdout",
          "text": [
            "8\n"
          ]
        }
      ]
    },
    {
      "cell_type": "markdown",
      "source": [
        "En este caso, sumar_dos_numeros es una función que toma dos argumentos, a y b, y devuelve su suma. Cuando llamamos a sumar_dos_numeros(5, 3), la función se ejecuta con a igual a 5 y b igual a 3, y devuelve la suma de estos dos números, que es 8.\n",
        "\n",
        "Las funciones pueden tener cualquier número de argumentos, incluso ninguno. Aquí tienes un ejemplo de una función sin argumentos:"
      ],
      "metadata": {
        "id": "gQldolmIhQST"
      }
    },
    {
      "cell_type": "code",
      "source": [
        "def imprimir_mensaje():\n",
        "    print(\"¡Hola, mundo!\")\n",
        "\n",
        "imprimir_mensaje()  # Imprime \"¡Hola, mundo!\"\n"
      ],
      "metadata": {
        "colab": {
          "base_uri": "https://localhost:8080/"
        },
        "id": "Qf9bkS-QhR6G",
        "outputId": "05d740c8-6fdb-480b-d299-c33d0a41ede2"
      },
      "execution_count": null,
      "outputs": [
        {
          "output_type": "stream",
          "name": "stdout",
          "text": [
            "¡Hola, mundo!\n"
          ]
        }
      ]
    },
    {
      "cell_type": "markdown",
      "source": [
        "Puedes usar la declaración return para devolver cualquier tipo de valor desde una función, incluyendo listas, diccionarios, o incluso otras funciones. Si no incluyes una declaración return en tu función, por defecto devolverá None.\n",
        "\n",
        "Las funciones son extremadamente útiles para organizar tu código y hacerlo más legible y reutilizable. En lugar de tener que escribir el mismo código una y otra vez, puedes encapsular ese código en una función y luego llamar a la función cada vez que necesites realizar esa acción. Las funciones también son una excelente manera de dividir un programa complejo en partes más pequeñas y manejables."
      ],
      "metadata": {
        "id": "3OeYgQlghWeR"
      }
    },
    {
      "cell_type": "markdown",
      "source": [
        "Ahora veamos un ejemplo más divertido e interesante. Supongamos que estás escribiendo un programa para simular un juego de lanzamiento de dados. Podrías escribir una función para simular el lanzamiento de un dado:"
      ],
      "metadata": {
        "id": "MqBqLsxWhclq"
      }
    },
    {
      "cell_type": "code",
      "source": [
        "import random\n",
        "\n",
        "def lanzar_dado():\n",
        "    return random.randint(1, 6)\n",
        "\n",
        "for i in range(5):\n",
        "    print(lanzar_dado())\n"
      ],
      "metadata": {
        "colab": {
          "base_uri": "https://localhost:8080/"
        },
        "id": "VpNFr_4khXU6",
        "outputId": "1a295f40-80a0-4ca0-c23a-05c50ffa7524"
      },
      "execution_count": null,
      "outputs": [
        {
          "output_type": "stream",
          "name": "stdout",
          "text": [
            "3\n",
            "6\n",
            "1\n",
            "1\n",
            "1\n"
          ]
        }
      ]
    },
    {
      "cell_type": "markdown",
      "source": [
        "Aquí, lanzar_dado es una función que no toma ningún argumento y devuelve un número aleatorio entre 1 y 6, simulando el lanzamiento de un dado. Luego lanzamos el dado 5 veces e imprimimos el resultado de cada lanzamiento."
      ],
      "metadata": {
        "id": "Oerrh4D2hirq"
      }
    },
    {
      "cell_type": "markdown",
      "source": [
        "#Tarea"
      ],
      "metadata": {
        "id": "sQVwJJtkhvSf"
      }
    },
    {
      "cell_type": "markdown",
      "source": [
        "Dada una lista de números, escribe un programa que encuentre el número más grande en la lista. **Nota: No se vale usar la función max **\n"
      ],
      "metadata": {
        "id": "j25QuICKhw3f"
      }
    },
    {
      "cell_type": "code",
      "source": [
        "mi_lista = [2,1,4,10,-3,23,11,12,38,11]\n",
        "def  encontrar_maximo(lista):\n",
        "    maximo = lista[0]\n",
        "    for num in lista:\n",
        "        if num > maximo:\n",
        "            maximo = num\n",
        "    return maximo\n",
        "\n",
        "\n",
        "maximo = encontrar_maximo(mi_lista)\n",
        "print(maximo)\n"
      ],
      "metadata": {
        "id": "p0Kfd9w4iChI",
        "colab": {
          "base_uri": "https://localhost:8080/"
        },
        "outputId": "9c8a8b14-edc6-4c7e-a2bd-e1ed1f9a89ac"
      },
      "execution_count": null,
      "outputs": [
        {
          "output_type": "stream",
          "name": "stdout",
          "text": [
            "38\n",
            "2\n"
          ]
        }
      ]
    },
    {
      "cell_type": "markdown",
      "source": [
        "Dado un diccionario que almacena las edades de las personas, escribe un programa que encuentre la persona de mayor edad y su edad."
      ],
      "metadata": {
        "id": "alJRzdAFiLUa"
      }
    },
    {
      "cell_type": "code",
      "source": [
        "edades = {\n",
        "    'Mario': 30,\n",
        "    'Luigi': 35,\n",
        "    'Peach': 32,\n",
        "    'Bowser': 58,\n",
        "    'Toad': 20\n",
        "}\n",
        "\n",
        "persona_mayor = max(edades, key=edades.get)\n",
        "edad_mayor = edades[persona_mayor]\n",
        "\n",
        "print(edad_mayor)\n",
        "\n",
        "print(f\"La persona de mayor edad es {persona_mayor} con {edad_mayor} años.\")"
      ],
      "metadata": {
        "id": "zP732acDiRkI",
        "colab": {
          "base_uri": "https://localhost:8080/"
        },
        "outputId": "6cbc26b8-b8a8-4454-9d10-ce7c11e63bf6"
      },
      "execution_count": null,
      "outputs": [
        {
          "output_type": "stream",
          "name": "stdout",
          "text": [
            "58\n",
            "La persona de mayor edad es Bowser con 58 años.\n"
          ]
        }
      ]
    },
    {
      "cell_type": "markdown",
      "source": [
        "3. Ejercicio con ciclos:\n",
        "\n",
        "Escribe un programa que imprima los primeros 30 números de la serie de Fibonacci (0, 1, 1, 2, 3, 5, 8, 13, 21, 34).\n",
        "\n",
        "La serie de fibonacci usa la siguiente regla el primer número es $0$ luego sigue $1$ y los siguientes son la suma de los dos anteriores asi el tercer elemento es $0+1 = 1$, el cuarto elemento es $1+1=2$, el quinto elemento es $1+2=3$ y asi sucesivamente."
      ],
      "metadata": {
        "id": "GiMvnQpdiV4X"
      }
    },
    {
      "cell_type": "code",
      "source": [
        "contador = 1\n",
        "mi_lista = [0]\n",
        "\n",
        "while contador < 30:\n",
        "\n",
        "    if contador == 1:\n",
        "      mi_lista.append(1)\n",
        "    else:\n",
        "      fibonacci = mi_lista[contador - 1] + mi_lista[contador - 2]\n",
        "      mi_lista.append(fibonacci)\n",
        "\n",
        "    contador += 1\n",
        "\n",
        "print(mi_lista)"
      ],
      "metadata": {
        "id": "ruE9_qfPiyUn",
        "colab": {
          "base_uri": "https://localhost:8080/"
        },
        "outputId": "aa160885-8c63-43fa-c338-ede0799dfd1e"
      },
      "execution_count": null,
      "outputs": [
        {
          "output_type": "stream",
          "name": "stdout",
          "text": [
            "[0, 1, 1, 2, 3, 5, 8, 13, 21, 34, 55, 89, 144, 233, 377, 610, 987, 1597, 2584, 4181, 6765, 10946, 17711, 28657, 46368, 75025, 121393, 196418, 317811, 514229]\n"
          ]
        }
      ]
    },
    {
      "cell_type": "markdown",
      "source": [
        "2. Calculadora de Propinas:\n",
        "\n",
        "Escribe una función que tome el total de una cuenta de restaurante y el porcentaje de propina que quieres dejar. La función debería devolver la cantidad de dinero que debes dejar como propina."
      ],
      "metadata": {
        "id": "E_dhf6V5khhX"
      }
    },
    {
      "cell_type": "code",
      "source": [
        "def propina (total_cuenta, porcentaje_propina):\n",
        "  propina = porcentaje_propina / 100 * total_cuenta\n",
        "  return propina\n",
        "\n",
        "ejemplo = propina(100,10)\n",
        "print(ejemplo)"
      ],
      "metadata": {
        "id": "sn42lO4kkiKL",
        "colab": {
          "base_uri": "https://localhost:8080/"
        },
        "outputId": "af21c5af-2770-4a42-a491-51a9a0ad2f0c"
      },
      "execution_count": null,
      "outputs": [
        {
          "output_type": "stream",
          "name": "stdout",
          "text": [
            "10.0\n"
          ]
        }
      ]
    },
    {
      "cell_type": "markdown",
      "source": [
        "Piedra, papel o tijeras:\n",
        "\n",
        "Escribe una función que simule el juego de \"Piedra, papel o tijeras\". La función debe tomar la elección del jugador como entrada (piedra, papel o tijeras) y luego generar al azar la elección de la computadora. La función debe determinar quién gana el juego y devolver el resultado.\n",
        "\n",
        "Para poder simular al azar una elección de la computadora puedes usar la función random esta te regresa un número aleatorio"
      ],
      "metadata": {
        "id": "Km4WDtcLiwr-"
      }
    },
    {
      "cell_type": "code",
      "source": [
        "### Este código genera un número aleatorio entre 1 y 3\n",
        "\n",
        "import random\n",
        "numero_secreto = random.randint(1, 3)\n",
        "print(numero_secreto)"
      ],
      "metadata": {
        "colab": {
          "base_uri": "https://localhost:8080/"
        },
        "id": "BFlKEUfHHsdL",
        "outputId": "2e10ed08-54b2-4106-dc19-a17add81d608"
      },
      "execution_count": null,
      "outputs": [
        {
          "output_type": "stream",
          "name": "stdout",
          "text": [
            "2\n"
          ]
        }
      ]
    },
    {
      "cell_type": "code",
      "source": [
        "import random\n",
        "\n",
        "def juego_piedra_papel_tijera(jugador):\n",
        "    elecciones = [\"piedra\", \"papel\", \"tijera\"]\n",
        "    eleccion_computadora = random.choice(elecciones)\n",
        "\n",
        "    if jugador == eleccion_computadora:\n",
        "        print(\"Empate\")\n",
        "    elif jugador == \"piedra\" and eleccion_computadora == \"tijera\":\n",
        "        print(\"Ganaste\")\n",
        "    elif jugador == \"papel\" and eleccion_computadora == \"piedra\":\n",
        "        print(\"Ganaste\")\n",
        "    elif jugador == \"tijera\" and eleccion_computadora == \"papel\":\n",
        "        print(\"Ganaste\")\n",
        "    else:\n",
        "        print(\"Perdiste\")\n",
        "\n",
        "\n",
        "\n",
        "\n",
        "\n",
        "jugador = input(\"Para jugar priedra papel o tijeras escribe piedra, papel o tijeras \")\n",
        "juego_piedra_papel_tijera(jugador)\n",
        "\n"
      ],
      "metadata": {
        "id": "a0HBwSBdkRsD",
        "colab": {
          "base_uri": "https://localhost:8080/"
        },
        "outputId": "32efee65-fc47-4f11-c430-ec762f502b3b"
      },
      "execution_count": null,
      "outputs": [
        {
          "output_type": "stream",
          "name": "stdout",
          "text": [
            "Para jugar priedra papel o tijeras escribe piedra, papel o tijeras piedra\n",
            "Perdiste\n"
          ]
        }
      ]
    },
    {
      "cell_type": "markdown",
      "source": [
        "Escribe una función que valide si una cadena de texto es un correo electrónico válido. Un correo electrónico válido debe tener al menos un carácter antes del símbolo @, seguido por al menos un carácter y un punto, y luego debe terminar con \"com\", \"net\" o \"org\""
      ],
      "metadata": {
        "id": "I06DvsAZkX9f"
      }
    },
    {
      "cell_type": "code",
      "source": [
        "#import re\n",
        "\n",
        "#def validar_correo(email):\n",
        "    # Expresión regular para validar el formato del correo electrónico\n",
        "    # patron = r'^[^@]+@[a-zA-Z0-9.-]+\\.(com|net|org)$'\n",
        "\n",
        "    # if re.match(patron, email):\n",
        "       # return True\n",
        "    # else:\n",
        "       # return False\n",
        "\n",
        "\n",
        "def validador (cadena1):\n",
        "    bandera_arroba = 0  # Contador de @\n",
        "    bandera_punto = 0   # Contador de caracteres después de @\n",
        "    longitud = len(correo)  # Tamaño de la cadena\n",
        "\n",
        "    for i in range(longitud):\n",
        "        if i >0 and correo[i] == \"@\" and correo[i - 1].isalnum():\n",
        "            bandera_arroba += 1  # Contamos cuántos @ hay\n",
        "        elif correo[i].isalnum() and correo[i-1] == \"@\" and bandera_arroba == 1:\n",
        "            bandera_punto += 1  # Contamos puntos solo si ya apareció un @\n",
        "\n",
        "    # Extraer la parte final (dominio) para validar \"com\", \"net\" o \"org\"\n",
        "    dominio_valido = correo.endswith((\".com\", \".net\", \".org\"))\n",
        "\n",
        "    # Verificación final\n",
        "    if bandera_arroba == 1 and bandera_punto >= 1 and dominio_valido:\n",
        "        return print(\"El correo es válido.\")\n",
        "\n",
        "    else:\n",
        "        return print(\"El correo es inválido.\")\n",
        "\n",
        "\n",
        "\n",
        "correo = input(\"Ingrese un correro electronico para probar \")\n",
        "validador(correo)\n",
        "\n",
        "\n",
        "\n"
      ],
      "metadata": {
        "id": "3BjdPKL0kcq3",
        "colab": {
          "base_uri": "https://localhost:8080/"
        },
        "outputId": "fa765df5-e18c-4bb1-bdc1-634920815999"
      },
      "execution_count": null,
      "outputs": [
        {
          "output_type": "stream",
          "name": "stdout",
          "text": [
            "Ingrese un correro electronico para probar a@a.net\n",
            "El correo es válido.\n"
          ]
        }
      ]
    }
  ]
}